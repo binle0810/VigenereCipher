{
  "nbformat": 4,
  "nbformat_minor": 0,
  "metadata": {
    "colab": {
      "provenance": []
    },
    "kernelspec": {
      "name": "python3",
      "display_name": "Python 3"
    },
    "language_info": {
      "name": "python"
    }
  },
  "cells": [
    {
      "cell_type": "code",
      "source": [
        "class VigenereCipher:\n",
        "    def __init__(self):\n",
        "        self.vigenere_table = self.generate_vigenere_table()\n",
        "\n",
        "    def generate_vigenere_table(self):\n",
        "        table = []\n",
        "        for i in range(26):\n",
        "            row = []\n",
        "            for j in range(26):\n",
        "                row.append(chr(((j + i) % 26) + ord('A')))\n",
        "            table.append(row)\n",
        "        return table\n",
        "\n",
        "    def print_vigenere_table(self):\n",
        "        print(\"Vigenere Cipher Table:\")\n",
        "        print(\"  | \" + \" | \".join([chr(ord('A') + i) for i in range(26)]))\n",
        "        print(\"---\" + \"-\".join([\"-\" for _ in range(52)]))\n",
        "        for i in range(26):\n",
        "            print(chr(ord('A') + i) + \" | \" + \" | \".join(self.vigenere_table[i]))\n",
        "\n",
        "    def encrypt(self, plain_text, key):\n",
        "        plain_text = plain_text.upper()\n",
        "        key = key.upper().replace(\" \", \"\")\n",
        "        encrypted_text = \"\"\n",
        "        key_index = 0\n",
        "\n",
        "        for char in plain_text:\n",
        "            if char.isalpha():\n",
        "                row = ord(key[key_index]) - ord('A')\n",
        "                col = ord(char) - ord('A')\n",
        "                encrypted_char = self.vigenere_table[col][row]\n",
        "                encrypted_text += encrypted_char\n",
        "                key_index = (key_index + 1) % len(key)\n",
        "            else:\n",
        "                encrypted_text += char\n",
        "\n",
        "        return encrypted_text\n",
        "\n",
        "def main():\n",
        "    vigenere_cipher = VigenereCipher()\n",
        "\n",
        "    plain_text = input(\"Enter the text to encrypt: \")\n",
        "    key = input(\"Enter the key: \")\n",
        "\n",
        "    while len(key) > len(plain_text):\n",
        "        key = input(\"Enter a key (length <= plaintext): \")\n",
        "\n",
        "    encrypted_text_key1 = vigenere_cipher.encrypt(plain_text, key)\n",
        "    print(\"Encrypted Text (repeated key):\", encrypted_text_key1)\n",
        "\n",
        "    i = 0\n",
        "    while len(key) < len(plain_text):\n",
        "        key += plain_text[i]\n",
        "        i += 1\n",
        "    encrypted_text_key2 = vigenere_cipher.encrypt(plain_text, key)\n",
        "    print(\"Encrypted Text (auto-generated key):\", encrypted_text_key2)\n",
        "\n",
        "    #vigenere_cipher.print_vigenere_table()  # Print Vigenere Cipher Table\n",
        "\n",
        "if __name__ == \"__main__\":\n",
        "    main()\n"
      ],
      "metadata": {
        "colab": {
          "base_uri": "https://localhost:8080/"
        },
        "id": "BjUthutLTBEA",
        "outputId": "d9275f5f-155c-4677-ba78-ccb117dda565"
      },
      "execution_count": null,
      "outputs": [
        {
          "output_type": "stream",
          "name": "stdout",
          "text": [
            "Enter the text to encrypt: allworkandnoplayma\n",
            "Enter the key: wheninro\n",
            "Encrypted Text (repeated key): WSPJWEBOJKRBXYRMIH\n",
            "Encrypted Text (auto-generated key): WSPJWEBONOYKDCKYZD\n"
          ]
        }
      ]
    }
  ]
}